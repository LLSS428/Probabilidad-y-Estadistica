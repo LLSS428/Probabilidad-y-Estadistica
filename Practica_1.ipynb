{
  "nbformat": 4,
  "nbformat_minor": 0,
  "metadata": {
    "colab": {
      "provenance": [],
      "authorship_tag": "ABX9TyOXyQ90QimDhQsuJZmH87tQ",
      "include_colab_link": true
    },
    "kernelspec": {
      "name": "python3",
      "display_name": "Python 3"
    },
    "language_info": {
      "name": "python"
    }
  },
  "cells": [
    {
      "cell_type": "markdown",
      "metadata": {
        "id": "view-in-github",
        "colab_type": "text"
      },
      "source": [
        "<a href=\"https://colab.research.google.com/github/LLSS428/Probabilidad-y-Estadistica/blob/main/Practica_1.ipynb\" target=\"_parent\"><img src=\"https://colab.research.google.com/assets/colab-badge.svg\" alt=\"Open In Colab\"/></a>"
      ]
    },
    {
      "cell_type": "code",
      "execution_count": 5,
      "metadata": {
        "colab": {
          "base_uri": "https://localhost:8080/"
        },
        "id": "sHR8BOg01u2j",
        "outputId": "91a20a53-7872-482d-a524-f17e2e65796e"
      },
      "outputs": [
        {
          "output_type": "stream",
          "name": "stdout",
          "text": [
            "[70, 70, 65, 90, 100, 95, 45, 80, 73, 20, 100, 96]\n"
          ]
        }
      ],
      "source": [
        "# statistics es una libreria y se está importando\n",
        "from statistics import*\n",
        "# Problema: Lista de calificaciones del grupo a de porbabilidad\n",
        "# Los cor\n",
        "grupoa=[70,70,65,90,100,95,45,80,73,20,100,96]\n",
        "print(grupoa)"
      ]
    },
    {
      "cell_type": "code",
      "source": [
        "# type ayuda a ver el tipo de dato al que corresponde la variable\n",
        "type(grupoa)"
      ],
      "metadata": {
        "colab": {
          "base_uri": "https://localhost:8080/"
        },
        "id": "v3Sg4MMn3NV2",
        "outputId": "1f683d00-cec4-4c6d-db1e-dd092f560978"
      },
      "execution_count": 2,
      "outputs": [
        {
          "output_type": "execute_result",
          "data": {
            "text/plain": [
              "list"
            ]
          },
          "metadata": {},
          "execution_count": 2
        }
      ]
    },
    {
      "cell_type": "code",
      "source": [
        "# Sacar la media de las calificaciones\n",
        "# sum aplica la suma de un vector y len da su longitud\n",
        "promedio= sum(grupoa)/len(grupoa)\n",
        "print(promedio)"
      ],
      "metadata": {
        "colab": {
          "base_uri": "https://localhost:8080/"
        },
        "id": "MXsGoGg837Hm",
        "outputId": "aadd7252-186b-4a54-9944-eef41df530ab"
      },
      "execution_count": 6,
      "outputs": [
        {
          "output_type": "stream",
          "name": "stdout",
          "text": [
            "75.33333333333333\n"
          ]
        }
      ]
    },
    {
      "cell_type": "code",
      "source": [
        "# La función mean da directamente la media\n",
        "promedio2=mean(grupoa)\n",
        "print(promedio2)"
      ],
      "metadata": {
        "colab": {
          "base_uri": "https://localhost:8080/"
        },
        "id": "dz7nJnJJ4ZGD",
        "outputId": "686c9997-680d-429d-df5d-c4e878c0f5eb"
      },
      "execution_count": 7,
      "outputs": [
        {
          "output_type": "stream",
          "name": "stdout",
          "text": [
            "75.33333333333333\n"
          ]
        }
      ]
    },
    {
      "cell_type": "code",
      "source": [
        "# La mediana es el punto medio de un conjunto de datos ordenado de menor a mayor\n",
        "# de modo que la mitad de los valores son menores que la mediana\n",
        "# y la otra mitad son mayores\n",
        "mediana=median(grupoa)\n",
        "print(mediana)"
      ],
      "metadata": {
        "colab": {
          "base_uri": "https://localhost:8080/"
        },
        "id": "nXGNuogF5FqT",
        "outputId": "5d7f685d-7213-4183-f13e-c8c1b9163d08"
      },
      "execution_count": 8,
      "outputs": [
        {
          "output_type": "stream",
          "name": "stdout",
          "text": [
            "76.5\n"
          ]
        }
      ]
    },
    {
      "cell_type": "code",
      "source": [
        "# La moda es el valor que más se repite\n",
        "moda=mode(grupoa)\n",
        "print(moda)"
      ],
      "metadata": {
        "colab": {
          "base_uri": "https://localhost:8080/"
        },
        "id": "-SzlKEdu5X6a",
        "outputId": "d4feee58-569e-4a47-fc5d-7c9775774941"
      },
      "execution_count": 9,
      "outputs": [
        {
          "output_type": "stream",
          "name": "stdout",
          "text": [
            "70\n"
          ]
        }
      ]
    },
    {
      "cell_type": "code",
      "source": [
        "#Para los casos en los que existan más de una moda se puede utilizar la función multimode\n",
        "moda2=multimode(grupoa)\n",
        "print(moda2)"
      ],
      "metadata": {
        "colab": {
          "base_uri": "https://localhost:8080/"
        },
        "id": "XOxI4AM45nRB",
        "outputId": "6a4dd1ad-55af-42e2-e49f-65bbaa9c8b5d"
      },
      "execution_count": 10,
      "outputs": [
        {
          "output_type": "stream",
          "name": "stdout",
          "text": [
            "[70, 100]\n"
          ]
        }
      ]
    },
    {
      "cell_type": "code",
      "source": [
        "# Problema 2: tiempos de alumnos para correr 100 metros\n",
        "t100m=[12.25,14.1,16.28,11.25,17.89,9.98,10.56,11.25,10.89,16.36]\n",
        "print(t100m)"
      ],
      "metadata": {
        "colab": {
          "base_uri": "https://localhost:8080/"
        },
        "id": "0foSB0bL6EH7",
        "outputId": "f6c85298-77bc-4530-db56-e0dcc462adde"
      },
      "execution_count": 29,
      "outputs": [
        {
          "output_type": "stream",
          "name": "stdout",
          "text": [
            "[12.25, 14.1, 16.28, 11.25, 17.89, 9.98, 10.56, 11.25, 10.89, 16.36]\n"
          ]
        }
      ]
    },
    {
      "cell_type": "code",
      "source": [
        "print(\"El promedio de los jugadores es\",mean(t100m),\"segundos\")"
      ],
      "metadata": {
        "colab": {
          "base_uri": "https://localhost:8080/"
        },
        "id": "iPnjjm6V6vGo",
        "outputId": "1ba68fcf-592d-418e-99a8-8e4dda764cf7"
      },
      "execution_count": 30,
      "outputs": [
        {
          "output_type": "stream",
          "name": "stdout",
          "text": [
            "El promedio de los jugadores es 13.081 segundos\n"
          ]
        }
      ]
    },
    {
      "cell_type": "code",
      "source": [
        "mediana=median(t100m)\n",
        "print(\"La mediana de los tiempos es:\",mediana)"
      ],
      "metadata": {
        "colab": {
          "base_uri": "https://localhost:8080/"
        },
        "id": "w4AZJ5ns7Rzy",
        "outputId": "193254d5-11ca-4d6c-a7bc-966c8f43c150"
      },
      "execution_count": 31,
      "outputs": [
        {
          "output_type": "stream",
          "name": "stdout",
          "text": [
            "La mediana de los tiempos es: 11.75\n"
          ]
        }
      ]
    },
    {
      "cell_type": "code",
      "source": [
        "moda=multimode(t100m)\n",
        "print(\"Las modas de los tiempos es:\",moda)"
      ],
      "metadata": {
        "colab": {
          "base_uri": "https://localhost:8080/"
        },
        "id": "iqUiQay67qr1",
        "outputId": "ef7c143d-7d01-4dad-d80a-9cef32082368"
      },
      "execution_count": 34,
      "outputs": [
        {
          "output_type": "stream",
          "name": "stdout",
          "text": [
            "Las modas de los tiempos es: [11.25]\n"
          ]
        }
      ]
    },
    {
      "cell_type": "code",
      "source": [
        "# Problema 3: Histograma de 3 grupos\n",
        "#Importación de la libreria random para la generación de números aleatorios\n",
        "import random"
      ],
      "metadata": {
        "id": "eZpbuwUP8mrf"
      },
      "execution_count": 38,
      "outputs": []
    },
    {
      "cell_type": "code",
      "source": [
        "fabrica1=[]\n",
        "for x in range(100):\n",
        "  #La función random.uniform genera numeros entre cierto rango y con ciertos decimales\n",
        "  rdm=round(random.uniform(50,100),2)\n",
        "  fabrica1.append(rdm)\n",
        "print(fabrica1)"
      ],
      "metadata": {
        "colab": {
          "base_uri": "https://localhost:8080/"
        },
        "id": "dLewAvBr9IJp",
        "outputId": "0aa12ccb-3129-453f-ba68-3dd21e18fabd"
      },
      "execution_count": 40,
      "outputs": [
        {
          "output_type": "stream",
          "name": "stdout",
          "text": [
            "[72.01, 76.77, 65.22, 75.95, 60.09, 52.55, 84.73, 89.35, 67.31, 54.96, 54.16, 83.45, 61.14, 97.42, 51.81, 90.08, 57.46, 91.99, 53.09, 60.67, 93.15, 59.26, 75.46, 71.97, 94.66, 99.18, 88.48, 87.86, 54.88, 92.46, 68.54, 74.04, 70.67, 63.38, 79.36, 53.23, 67.11, 56.05, 52.04, 76.51, 92.96, 99.07, 99.87, 72.03, 58.25, 64.58, 65.93, 74.55, 55.66, 99.33, 77.61, 93.89, 80.26, 82.22, 66.47, 95.76, 64.91, 83.54, 55.22, 63.8, 86.41, 77.3, 61.3, 95.19, 98.45, 89.97, 74.64, 81.0, 51.01, 59.23, 82.0, 86.95, 79.85, 93.77, 89.84, 54.25, 59.15, 77.37, 66.87, 91.63, 69.59, 52.5, 69.24, 90.54, 96.23, 52.68, 72.76, 71.19, 89.68, 95.87, 79.89, 70.12, 95.87, 78.52, 72.37, 51.65, 70.11, 87.92, 87.67, 78.99]\n"
          ]
        }
      ]
    }
  ]
}