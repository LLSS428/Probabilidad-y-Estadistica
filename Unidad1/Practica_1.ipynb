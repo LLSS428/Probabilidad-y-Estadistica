{
  "nbformat": 4,
  "nbformat_minor": 0,
  "metadata": {
    "colab": {
      "provenance": [],
      "include_colab_link": true
    },
    "kernelspec": {
      "name": "python3",
      "display_name": "Python 3"
    },
    "language_info": {
      "name": "python"
    }
  },
  "cells": [
    {
      "cell_type": "markdown",
      "metadata": {
        "id": "view-in-github",
        "colab_type": "text"
      },
      "source": [
        "<a href=\"https://colab.research.google.com/github/LLSS428/Probabilidad-y-Estadistica/blob/main/Unidad1/Practica_1.ipynb\" target=\"_parent\"><img src=\"https://colab.research.google.com/assets/colab-badge.svg\" alt=\"Open In Colab\"/></a>"
      ]
    },
    {
      "cell_type": "markdown",
      "source": [
        "#**Probabilidad y Estadistica**\n",
        "## Grupo 2 Y\n",
        "## Unidad 1\n",
        "Docente: Jose Gabriel Rodriguez Rivas\n",
        "Alumno: Leonel Alberto Ontiveros Vera\n",
        "**Practica 1: Medidas de tendencia central e Histogramas**"
      ],
      "metadata": {
        "id": "r1or4h6UH9UA"
      }
    },
    {
      "cell_type": "code",
      "execution_count": null,
      "metadata": {
        "colab": {
          "base_uri": "https://localhost:8080/"
        },
        "id": "sHR8BOg01u2j",
        "outputId": "74a22b96-3581-4b08-f5aa-bcb5a3813492"
      },
      "outputs": [
        {
          "output_type": "stream",
          "name": "stdout",
          "text": [
            "[70, 70, 65, 90, 100, 95, 45, 80, 73, 20, 100, 96]\n"
          ]
        }
      ],
      "source": [
        "# statistics es una libreria y se está importando\n",
        "from statistics import*\n",
        "# Problema: Lista de calificaciones del grupo a de porbabilidad\n",
        "# Los cor\n",
        "grupoa=[70,70,65,90,100,95,45,80,73,20,100,96]\n",
        "print(grupoa)"
      ]
    },
    {
      "cell_type": "code",
      "source": [
        "# type ayuda a ver el tipo de dato al que corresponde la variable\n",
        "type(grupoa)"
      ],
      "metadata": {
        "colab": {
          "base_uri": "https://localhost:8080/"
        },
        "id": "v3Sg4MMn3NV2",
        "outputId": "1f683d00-cec4-4c6d-db1e-dd092f560978"
      },
      "execution_count": null,
      "outputs": [
        {
          "output_type": "execute_result",
          "data": {
            "text/plain": [
              "list"
            ]
          },
          "metadata": {},
          "execution_count": 2
        }
      ]
    },
    {
      "cell_type": "code",
      "source": [
        "# Sacar la media de las calificaciones\n",
        "# sum aplica la suma de un vector y len da su longitud\n",
        "promedio= sum(grupoa)/len(grupoa)\n",
        "print(promedio)"
      ],
      "metadata": {
        "colab": {
          "base_uri": "https://localhost:8080/"
        },
        "id": "MXsGoGg837Hm",
        "outputId": "aadd7252-186b-4a54-9944-eef41df530ab"
      },
      "execution_count": null,
      "outputs": [
        {
          "output_type": "stream",
          "name": "stdout",
          "text": [
            "75.33333333333333\n"
          ]
        }
      ]
    },
    {
      "cell_type": "code",
      "source": [
        "# La función mean da directamente la media\n",
        "promedio2=mean(grupoa)\n",
        "print(promedio2)"
      ],
      "metadata": {
        "colab": {
          "base_uri": "https://localhost:8080/"
        },
        "id": "dz7nJnJJ4ZGD",
        "outputId": "686c9997-680d-429d-df5d-c4e878c0f5eb"
      },
      "execution_count": null,
      "outputs": [
        {
          "output_type": "stream",
          "name": "stdout",
          "text": [
            "75.33333333333333\n"
          ]
        }
      ]
    },
    {
      "cell_type": "code",
      "source": [
        "# La mediana es el punto medio de un conjunto de datos ordenado de menor a mayor\n",
        "# de modo que la mitad de los valores son menores que la mediana\n",
        "# y la otra mitad son mayores\n",
        "mediana=median(grupoa)\n",
        "print(mediana)"
      ],
      "metadata": {
        "colab": {
          "base_uri": "https://localhost:8080/"
        },
        "id": "nXGNuogF5FqT",
        "outputId": "5d7f685d-7213-4183-f13e-c8c1b9163d08"
      },
      "execution_count": null,
      "outputs": [
        {
          "output_type": "stream",
          "name": "stdout",
          "text": [
            "76.5\n"
          ]
        }
      ]
    },
    {
      "cell_type": "code",
      "source": [
        "# La moda es el valor que más se repite\n",
        "moda=mode(grupoa)\n",
        "print(moda)"
      ],
      "metadata": {
        "colab": {
          "base_uri": "https://localhost:8080/"
        },
        "id": "-SzlKEdu5X6a",
        "outputId": "d4feee58-569e-4a47-fc5d-7c9775774941"
      },
      "execution_count": null,
      "outputs": [
        {
          "output_type": "stream",
          "name": "stdout",
          "text": [
            "70\n"
          ]
        }
      ]
    },
    {
      "cell_type": "code",
      "source": [
        "#Para los casos en los que existan más de una moda se puede utilizar la función multimode\n",
        "moda2=multimode(grupoa)\n",
        "print(moda2)"
      ],
      "metadata": {
        "colab": {
          "base_uri": "https://localhost:8080/"
        },
        "id": "XOxI4AM45nRB",
        "outputId": "6a4dd1ad-55af-42e2-e49f-65bbaa9c8b5d"
      },
      "execution_count": null,
      "outputs": [
        {
          "output_type": "stream",
          "name": "stdout",
          "text": [
            "[70, 100]\n"
          ]
        }
      ]
    },
    {
      "cell_type": "code",
      "source": [
        "# Problema 2: tiempos de alumnos para correr 100 metros\n",
        "t100m=[12.25,14.1,16.28,11.25,17.89,9.98,10.56,11.25,10.89,16.36]\n",
        "print(t100m)"
      ],
      "metadata": {
        "colab": {
          "base_uri": "https://localhost:8080/"
        },
        "id": "0foSB0bL6EH7",
        "outputId": "f6c85298-77bc-4530-db56-e0dcc462adde"
      },
      "execution_count": null,
      "outputs": [
        {
          "output_type": "stream",
          "name": "stdout",
          "text": [
            "[12.25, 14.1, 16.28, 11.25, 17.89, 9.98, 10.56, 11.25, 10.89, 16.36]\n"
          ]
        }
      ]
    },
    {
      "cell_type": "code",
      "source": [
        "print(\"El promedio de los jugadores es\",mean(t100m),\"segundos\")"
      ],
      "metadata": {
        "colab": {
          "base_uri": "https://localhost:8080/"
        },
        "id": "iPnjjm6V6vGo",
        "outputId": "1ba68fcf-592d-418e-99a8-8e4dda764cf7"
      },
      "execution_count": null,
      "outputs": [
        {
          "output_type": "stream",
          "name": "stdout",
          "text": [
            "El promedio de los jugadores es 13.081 segundos\n"
          ]
        }
      ]
    },
    {
      "cell_type": "code",
      "source": [
        "mediana=median(t100m)\n",
        "print(\"La mediana de los tiempos es:\",mediana)"
      ],
      "metadata": {
        "colab": {
          "base_uri": "https://localhost:8080/"
        },
        "id": "w4AZJ5ns7Rzy",
        "outputId": "193254d5-11ca-4d6c-a7bc-966c8f43c150"
      },
      "execution_count": null,
      "outputs": [
        {
          "output_type": "stream",
          "name": "stdout",
          "text": [
            "La mediana de los tiempos es: 11.75\n"
          ]
        }
      ]
    },
    {
      "cell_type": "code",
      "source": [
        "moda=multimode(t100m)\n",
        "print(\"Las modas de los tiempos es:\",moda)"
      ],
      "metadata": {
        "colab": {
          "base_uri": "https://localhost:8080/"
        },
        "id": "iqUiQay67qr1",
        "outputId": "ef7c143d-7d01-4dad-d80a-9cef32082368"
      },
      "execution_count": null,
      "outputs": [
        {
          "output_type": "stream",
          "name": "stdout",
          "text": [
            "Las modas de los tiempos es: [11.25]\n"
          ]
        }
      ]
    },
    {
      "cell_type": "code",
      "source": [
        "# Problema 3: Histograma de 3 grupos\n",
        "#Importación de la libreria random para la generación de números aleatorios\n",
        "import random"
      ],
      "metadata": {
        "id": "eZpbuwUP8mrf"
      },
      "execution_count": null,
      "outputs": []
    },
    {
      "cell_type": "code",
      "source": [
        "fabrica1=[]\n",
        "for x in range(100):\n",
        "  #La función random.uniform genera numeros entre cierto rango y con ciertos decimales\n",
        "  rdm=round(random.uniform(50,100),2)\n",
        "  fabrica1.append(rdm)\n",
        "print(fabrica1)"
      ],
      "metadata": {
        "colab": {
          "base_uri": "https://localhost:8080/"
        },
        "id": "dLewAvBr9IJp",
        "outputId": "d794a754-edd4-4b90-db61-c336cd29f492"
      },
      "execution_count": null,
      "outputs": [
        {
          "output_type": "stream",
          "name": "stdout",
          "text": [
            "[94.96, 93.11, 81.08, 84.75, 59.17, 59.4, 76.24, 64.94, 93.28, 90.53, 52.58, 96.1, 93.13, 95.43, 52.57, 50.1, 60.38, 73.14, 58.21, 60.3, 78.83, 77.72, 86.75, 55.66, 73.1, 90.51, 69.38, 52.08, 56.07, 76.11, 51.34, 50.5, 86.61, 88.6, 79.43, 94.59, 77.98, 62.82, 55.37, 63.32, 66.1, 67.19, 74.32, 62.32, 80.09, 74.19, 65.38, 64.59, 68.64, 84.13, 50.36, 62.39, 58.82, 92.47, 68.89, 96.69, 60.39, 73.43, 84.75, 63.33, 96.64, 93.54, 99.05, 74.91, 56.91, 91.56, 60.35, 65.72, 50.8, 93.84, 86.93, 54.93, 51.07, 98.29, 72.75, 89.48, 79.22, 99.92, 69.91, 64.71, 53.57, 54.5, 89.69, 67.52, 51.03, 58.8, 90.73, 89.26, 92.18, 87.44, 89.15, 68.95, 50.11, 86.25, 78.71, 69.84, 71.35, 61.77, 60.33, 77.61]\n"
          ]
        }
      ]
    },
    {
      "cell_type": "code",
      "source": [
        "fabrica2=[]\n",
        "for x in range(100):\n",
        "  rdm2=round(random.uniform(40,93),2)\n",
        "  fabrica2.append(rdm2)\n",
        "print(fabrica2)"
      ],
      "metadata": {
        "id": "BArS8f5V_iDc",
        "outputId": "2e790f74-96a2-4f63-d52e-4508bc810015",
        "colab": {
          "base_uri": "https://localhost:8080/"
        }
      },
      "execution_count": null,
      "outputs": [
        {
          "output_type": "stream",
          "name": "stdout",
          "text": [
            "[60.1, 43.1, 71.85, 51.56, 63.78, 72.63, 85.12, 87.53, 87.65, 65.12, 87.29, 90.94, 48.51, 81.9, 77.42, 46.81, 85.82, 75.73, 73.71, 43.22, 83.95, 91.25, 51.03, 60.49, 73.7, 45.4, 47.04, 68.84, 65.86, 70.7, 89.51, 57.02, 68.05, 83.5, 71.37, 90.31, 92.71, 74.67, 59.83, 78.52, 67.82, 82.47, 67.28, 60.5, 72.04, 92.34, 71.86, 57.22, 48.02, 82.09, 80.9, 76.57, 45.74, 75.33, 73.51, 63.39, 74.01, 51.8, 80.6, 45.43, 56.59, 67.81, 86.09, 84.7, 87.2, 62.37, 48.61, 69.57, 58.75, 76.75, 77.41, 78.04, 86.87, 70.57, 90.44, 77.23, 80.93, 81.37, 73.54, 72.04, 53.97, 70.62, 47.1, 43.48, 47.92, 66.25, 61.3, 72.59, 67.89, 46.47, 79.82, 71.04, 57.06, 77.1, 49.55, 78.91, 90.74, 52.21, 78.08, 47.89]\n"
          ]
        }
      ]
    },
    {
      "cell_type": "code",
      "source": [
        "# Libreria de python que ayuda a graficar valores\n",
        "# con as se asigna un alias a una libreria para no tener que escribir por completo la misma\n",
        "# el metodo .hist genera el histograma y .title agrega un texto de titulo\n",
        "import matplotlib.pyplot as plt\n",
        "plt.hist(fabrica1)\n",
        "plt.title(\"Producción diaria de la fabrica 1\")"
      ],
      "metadata": {
        "id": "CkEj3QF7BIqc",
        "outputId": "fc411e88-5e1e-413a-9bb4-18ce39508468",
        "colab": {
          "base_uri": "https://localhost:8080/",
          "height": 469
        }
      },
      "execution_count": null,
      "outputs": [
        {
          "output_type": "execute_result",
          "data": {
            "text/plain": [
              "Text(0.5, 1.0, 'Producción diaria de la fabrica 1')"
            ]
          },
          "metadata": {},
          "execution_count": 7
        },
        {
          "output_type": "display_data",
          "data": {
            "text/plain": [
              "<Figure size 640x480 with 1 Axes>"
            ],
            "image/png": "[encoded data removed]"
          },
          "metadata": {}
        }
      ]
    },
    {
      "cell_type": "code",
      "source": [
        "plt.hist(fabrica2)\n",
        "plt.title(\"Producción diaria de la fabrica 2\")"
      ],
      "metadata": {
        "id": "CxYWDbS0CmaG",
        "outputId": "5c91bdc8-4eba-464c-dfb9-af86f72ba10c",
        "colab": {
          "base_uri": "https://localhost:8080/",
          "height": 469
        }
      },
      "execution_count": null,
      "outputs": [
        {
          "output_type": "execute_result",
          "data": {
            "text/plain": [
              "Text(0.5, 1.0, 'Producción diaria de la fabrica 2')"
            ]
          },
          "metadata": {},
          "execution_count": 8
        },
        {
          "output_type": "display_data",
          "data": {
            "text/plain": [
              "<Figure size 640x480 with 1 Axes>"
            ],
            "image/png": "[encoded data removed]"
          },
          "metadata": {}
        }
      ]
    },
    {
      "cell_type": "code",
      "source": [
        "media1=mean(fabrica1)\n",
        "mediana1=median(fabrica1)\n",
        "moda1=mode(fabrica1)\n",
        "print(\"Valores de la fabrica 1\")\n",
        "print(\"La media es:\",media1)\n",
        "print(\"La mediana es:\",mediana1)\n",
        "print(\"La moda es:\",moda1)"
      ],
      "metadata": {
        "id": "MxWHWAaJDDa_",
        "outputId": "153c8d78-dd8e-4ca3-f566-913678df6a64",
        "colab": {
          "base_uri": "https://localhost:8080/"
        }
      },
      "execution_count": null,
      "outputs": [
        {
          "output_type": "stream",
          "name": "stdout",
          "text": [
            "Valores de la fabrica 1\n",
            "La media es: 73.3396\n",
            "La mediana es: 72.925\n",
            "La moda es: 84.75\n"
          ]
        }
      ]
    },
    {
      "cell_type": "code",
      "source": [
        "media2=mean(fabrica2)\n",
        "mediana2=median(fabrica2)\n",
        "moda2=mode(fabrica2)\n",
        "print(\"Valores de la fabrica 2\")\n",
        "print(\"La media es:\",media2)\n",
        "print(\"La mediana es:\",mediana2)\n",
        "print(\"La moda es:\",moda2)"
      ],
      "metadata": {
        "id": "LZ3_OxLIDr75",
        "outputId": "cb964543-70c9-433c-eb92-b8ed49db709b",
        "colab": {
          "base_uri": "https://localhost:8080/"
        }
      },
      "execution_count": null,
      "outputs": [
        {
          "output_type": "stream",
          "name": "stdout",
          "text": [
            "Valores de la fabrica 2\n",
            "La media es: 69.3933\n",
            "La mediana es: 71.85499999999999\n",
            "La moda es: 72.04\n"
          ]
        }
      ]
    },
    {
      "cell_type": "code",
      "source": [
        "# Se generar 2 subplot de 1 renglon por 2 columnas para desplegar 2 histogramas\n",
        "# Una al lado de la otra\n",
        "fig,(ax1,ax2)=plt.subplots(nrows=1,ncols=2, figsize=(10,5))\n",
        "ax1.hist(fabrica1)\n",
        "ax2.hist(fabrica2)\n",
        "plt.show()"
      ],
      "metadata": {
        "id": "5H1rt0RyE8Bo",
        "outputId": "bc15b99c-d2d3-4b4f-c537-90ec3c841e19",
        "colab": {
          "base_uri": "https://localhost:8080/",
          "height": 445
        }
      },
      "execution_count": null,
      "outputs": [
        {
          "output_type": "display_data",
          "data": {
            "text/plain": [
              "<Figure size 1000x500 with 2 Axes>"
            ],
            "image/png": "[encoded data removed]"
          },
          "metadata": {}
        }
      ]
    },
    {
      "cell_type": "code",
      "source": [
        "# Todas estas insrucciones ayudan a crear un hostograma con la media, mediana\n",
        "# y la moda marcadas graficamente\n",
        "plt.hist(fabrica1,bins=10,alpha=0.2,color='b',edgecolor=\"black\")\n",
        "plt.axvline(media1,color='b',linestyle='dashed',linewidth=2,label='Media')\n",
        "plt.axvline(mediana1,color='r',linestyle='dashed',linewidth=2,label='Mediana')\n",
        "plt.axvline(moda1,color='y',linestyle='dashed',linewidth=2,label='Moda')\n",
        "plt.xlabel('Valor')\n",
        "plt.ylabel('Frecuencia')\n",
        "plt.title(\"Producción diaria de la fabrica 1\")\n",
        "plt.legend()\n",
        "plt.show()"
      ],
      "metadata": {
        "id": "BLXsrJFkGqbD",
        "outputId": "ea0f5127-5a63-497c-9570-c0159edeb1ca",
        "colab": {
          "base_uri": "https://localhost:8080/",
          "height": 472
        }
      },
      "execution_count": null,
      "outputs": [
        {
          "output_type": "display_data",
          "data": {
            "text/plain": [
              "<Figure size 640x480 with 1 Axes>"
            ],
            "image/png": "[encoded data removed]"
          },
          "metadata": {}
        }
      ]
    },
    {
      "cell_type": "code",
      "source": [
        "plt.hist(fabrica2,bins=10,alpha=0.2,color='b',edgecolor=\"black\")\n",
        "plt.axvline(media2,color='b',linestyle='dashed',linewidth=2,label='Media')\n",
        "plt.axvline(mediana2,color='r',linestyle='dashed',linewidth=2,label='Mediana')\n",
        "plt.axvline(moda2,color='y',linestyle='dashed',linewidth=2,label='Moda')\n",
        "plt.xlabel('Valor')\n",
        "plt.ylabel('Frecuencia')\n",
        "plt.title(\"Producción diaria de la fabrica 2\")\n",
        "plt.legend()\n",
        "plt.show()"
      ],
      "metadata": {
        "id": "vHQ7FPowISG-",
        "outputId": "f741c83e-cb37-43ce-f654-38f2de4d8586",
        "colab": {
          "base_uri": "https://localhost:8080/",
          "height": 472
        }
      },
      "execution_count": null,
      "outputs": [
        {
          "output_type": "display_data",
          "data": {
            "text/plain": [
              "<Figure size 640x480 with 1 Axes>"
            ],
            "image/png": "[encoded data removed]"
          },
          "metadata": {}
        }
      ]
    }
  ]
}