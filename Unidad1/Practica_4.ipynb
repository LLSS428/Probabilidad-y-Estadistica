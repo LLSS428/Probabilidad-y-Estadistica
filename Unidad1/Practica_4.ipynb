{
  "nbformat": 4,
  "nbformat_minor": 0,
  "metadata": {
    "colab": {
      "provenance": [],
      "authorship_tag": "ABX9TyMuH0i4MOJDPPDOZ6rQ5x1M",
      "include_colab_link": true
    },
    "kernelspec": {
      "name": "python3",
      "display_name": "Python 3"
    },
    "language_info": {
      "name": "python"
    }
  },
  "cells": [
    {
      "cell_type": "markdown",
      "metadata": {
        "id": "view-in-github",
        "colab_type": "text"
      },
      "source": [
        "<a href=\"https://colab.research.google.com/github/LLSS428/Probabilidad-y-Estadistica/blob/main/Unidad1/Practica_4.ipynb\" target=\"_parent\"><img src=\"https://colab.research.google.com/assets/colab-badge.svg\" alt=\"Open In Colab\"/></a>"
      ]
    },
    {
      "cell_type": "code",
      "execution_count": 1,
      "metadata": {
        "id": "2rBdqiy06s5k"
      },
      "outputs": [],
      "source": [
        "import random\n",
        "import matplotlib.pyplot as grf\n",
        "from statistics import *"
      ]
    },
    {
      "cell_type": "code",
      "source": [
        "fabrica1=[]\n",
        "for x in range(100):\n",
        "    rdm=round(random.uniform(50,100),2)\n",
        "    fabrica1.append(rdm)\n",
        "print(fabrica1)"
      ],
      "metadata": {
        "colab": {
          "base_uri": "https://localhost:8080/"
        },
        "id": "K1iMG5FV69Tq",
        "outputId": "9af9f6a4-93f1-4365-a658-a2484375b3cb"
      },
      "execution_count": 2,
      "outputs": [
        {
          "output_type": "stream",
          "name": "stdout",
          "text": [
            "[71.23, 76.44, 86.85, 98.41, 69.12, 91.49, 68.19, 84.12, 89.5, 93.51, 84.7, 98.69, 70.14, 62.95, 90.0, 51.52, 82.2, 72.1, 78.84, 77.62, 67.48, 86.81, 82.79, 95.11, 90.35, 65.12, 82.35, 87.57, 52.61, 92.13, 97.57, 80.96, 98.78, 85.5, 80.3, 73.46, 57.07, 83.57, 94.31, 57.2, 98.31, 76.37, 50.56, 75.71, 87.09, 87.9, 57.73, 78.76, 53.2, 95.18, 67.58, 72.21, 98.74, 81.36, 62.71, 94.27, 86.18, 66.45, 50.78, 83.4, 98.68, 54.14, 92.24, 75.1, 67.16, 63.33, 84.21, 94.52, 76.62, 60.7, 77.19, 72.68, 95.03, 80.45, 74.75, 85.01, 62.54, 73.91, 70.91, 81.32, 59.98, 83.67, 68.54, 66.56, 72.68, 81.88, 93.54, 51.36, 98.83, 77.24, 82.57, 74.73, 70.66, 87.4, 99.87, 63.74, 84.5, 54.97, 86.27, 51.97]\n"
          ]
        }
      ]
    },
    {
      "cell_type": "code",
      "source": [
        "fabrica2=[]\n",
        "for x in range(100):\n",
        "    rdm2=round(random.uniform(40,90),2)\n",
        "    fabrica1.append(rdm2)\n",
        "print(fabrica2)"
      ],
      "metadata": {
        "colab": {
          "base_uri": "https://localhost:8080/"
        },
        "id": "rXlfW6m67YxB",
        "outputId": "af13b0bf-b07c-43b4-f770-8b77e9257b06"
      },
      "execution_count": 3,
      "outputs": [
        {
          "output_type": "stream",
          "name": "stdout",
          "text": [
            "[]\n"
          ]
        }
      ]
    }
  ]
}