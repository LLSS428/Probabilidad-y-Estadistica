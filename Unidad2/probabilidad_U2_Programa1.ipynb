{
  "nbformat": 4,
  "nbformat_minor": 0,
  "metadata": {
    "colab": {
      "provenance": [],
      "authorship_tag": "ABX9TyM//etNd5MKW3Ra3RSM7mHN",
      "include_colab_link": true
    },
    "kernelspec": {
      "name": "python3",
      "display_name": "Python 3"
    },
    "language_info": {
      "name": "python"
    }
  },
  "cells": [
    {
      "cell_type": "markdown",
      "metadata": {
        "id": "view-in-github",
        "colab_type": "text"
      },
      "source": [
        "<a href=\"https://colab.research.google.com/github/LLSS428/Probabilidad-y-Estadistica/blob/main/Unidad2/probabilidad_U2_Programa1.ipynb\" target=\"_parent\"><img src=\"https://colab.research.google.com/assets/colab-badge.svg\" alt=\"Open In Colab\"/></a>"
      ]
    },
    {
      "cell_type": "markdown",
      "source": [
        "# **Programación Orientada a Objetos**\n",
        "## **Unidad 2**\n",
        "## **Grupo 2 Y**\n",
        "## **Programa 1**\n",
        "### Maestro: José Gabriel Rodriguez Rivas\n",
        "### Alumno: Leonel ALberto Ontiveros Vera"
      ],
      "metadata": {
        "id": "CAINl8EFfj2v"
      }
    },
    {
      "cell_type": "code",
      "execution_count": 2,
      "metadata": {
        "id": "X0GMZvZaeC5I"
      },
      "outputs": [],
      "source": [
        "import itertools\n",
        "import math"
      ]
    },
    {
      "cell_type": "code",
      "source": [
        "# Combinaciones sin repetición\n",
        "nombres = [\"Ana\", \"Luis\", \"Pedro\", \"Marta\"]\n",
        "r = 2\n",
        "combinaciones = list(itertools.combinations(nombres, r))\n",
        "print(f\"De {nombres}\")\n",
        "print(combinaciones)\n",
        "print(\"Número de combinaciones:\", len(combinaciones))"
      ],
      "metadata": {
        "colab": {
          "base_uri": "https://localhost:8080/"
        },
        "id": "MeprGo6Afxg3",
        "outputId": "f2458c03-9899-4574-9a76-beb562ccba92"
      },
      "execution_count": 8,
      "outputs": [
        {
          "output_type": "stream",
          "name": "stdout",
          "text": [
            "De ['Ana', 'Luis', 'Pedro', 'Marta']\n",
            "[('Ana', 'Luis'), ('Ana', 'Pedro'), ('Ana', 'Marta'), ('Luis', 'Pedro'), ('Luis', 'Marta'), ('Pedro', 'Marta')]\n",
            "Número de combinaciones: 6\n"
          ]
        }
      ]
    },
    {
      "cell_type": "code",
      "source": [
        "# Ejemplo con letras y números\n",
        "caracteres = ['A', 'B', 'C', '1', '2']\n",
        "r = 3\n",
        "combinaciones2 = list(itertools.combinations(caracteres, r))\n",
        "print(f\"De {caracteres}\")\n",
        "print(combinaciones2)\n",
        "print(\"Número de combinaciones:\", len(combinaciones2))"
      ],
      "metadata": {
        "colab": {
          "base_uri": "https://localhost:8080/"
        },
        "id": "zD2uTKalhm4O",
        "outputId": "400b800e-084a-4764-a9a9-1c65a5d4c469"
      },
      "execution_count": 15,
      "outputs": [
        {
          "output_type": "stream",
          "name": "stdout",
          "text": [
            "De ['A', 'B', 'C', '1', '2']\n",
            "[('A', 'B', 'C'), ('A', 'B', '1'), ('A', 'B', '2'), ('A', 'C', '1'), ('A', 'C', '2'), ('A', '1', '2'), ('B', 'C', '1'), ('B', 'C', '2'), ('B', '1', '2'), ('C', '1', '2')]\n",
            "Número de combinaciones: 10\n"
          ]
        }
      ]
    },
    {
      "cell_type": "code",
      "source": [
        "# Combinaciones con repetición\n",
        "elementos = [\"x\", \"y\", \"z\"]\n",
        "r = 2\n",
        "combinaciones_repe = list(itertools.combinations_with_replacement(elementos, r))\n",
        "print(f\"De {elementos}\")\n",
        "print(combinaciones_repe)\n",
        "print(\"Número de combinaciones:\", len(combinaciones_repe))"
      ],
      "metadata": {
        "colab": {
          "base_uri": "https://localhost:8080/"
        },
        "id": "AXr0DAV-h6bR",
        "outputId": "57b59398-2a85-42a7-9950-8bddb74c0768"
      },
      "execution_count": 17,
      "outputs": [
        {
          "output_type": "stream",
          "name": "stdout",
          "text": [
            "De ['x', 'y', 'z']\n",
            "[('x', 'x'), ('x', 'y'), ('x', 'z'), ('y', 'y'), ('y', 'z'), ('z', 'z')]\n",
            "Número de combinaciones: 6\n"
          ]
        }
      ]
    }
  ]
}