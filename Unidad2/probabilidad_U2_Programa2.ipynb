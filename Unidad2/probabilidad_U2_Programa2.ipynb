{
  "nbformat": 4,
  "nbformat_minor": 0,
  "metadata": {
    "colab": {
      "provenance": [],
      "authorship_tag": "ABX9TyO0ajFTASccP5ImV13dNrp4",
      "include_colab_link": true
    },
    "kernelspec": {
      "name": "python3",
      "display_name": "Python 3"
    },
    "language_info": {
      "name": "python"
    }
  },
  "cells": [
    {
      "cell_type": "markdown",
      "metadata": {
        "id": "view-in-github",
        "colab_type": "text"
      },
      "source": [
        "<a href=\"https://colab.research.google.com/github/LLSS428/Probabilidad-y-Estadistica/blob/main/Unidad2/probabilidad_U2_Programa2.ipynb\" target=\"_parent\"><img src=\"https://colab.research.google.com/assets/colab-badge.svg\" alt=\"Open In Colab\"/></a>"
      ]
    },
    {
      "cell_type": "markdown",
      "source": [
        "# **Programación Orientada a Objetos**\n",
        "## **Unidad 2**\n",
        "## **Grupo 2 Y**\n",
        "## **Programa 2**\n",
        "### Maestro: José Gabriel Rodriguez Rivas\n",
        "### Alumno: Leonel ALberto Ontiveros Vera"
      ],
      "metadata": {
        "id": "CAINl8EFfj2v"
      }
    },
    {
      "cell_type": "code",
      "source": [
        "import itertools\n",
        "import math"
      ],
      "metadata": {
        "id": "ucDV_Zc8kwju"
      },
      "execution_count": 23,
      "outputs": []
    },
    {
      "cell_type": "code",
      "source": [
        "# Permutaciones simples\n",
        "letras = [\"A\", \"B\", \"C\"]\n",
        "r = 2\n",
        "permutaciones = list(itertools.permutations(letras, r))\n",
        "print(f\"Permutaciones de {letras}\")\n",
        "print(permutaciones)\n",
        "print(\"Número de permutaciones:\", len(permutaciones))"
      ],
      "metadata": {
        "colab": {
          "base_uri": "https://localhost:8080/"
        },
        "id": "yqgQ69pvk-R5",
        "outputId": "1bb4dc6d-bedd-4665-ebce-e33d9c1b2758"
      },
      "execution_count": 24,
      "outputs": [
        {
          "output_type": "stream",
          "name": "stdout",
          "text": [
            "Permutaciones de ['A', 'B', 'C']\n",
            "[('A', 'B'), ('A', 'C'), ('B', 'A'), ('B', 'C'), ('C', 'A'), ('C', 'B')]\n",
            "Número de permutaciones: 6\n"
          ]
        }
      ]
    },
    {
      "cell_type": "code",
      "source": [
        "# Permutaciones con números\n",
        "numeros = [1, 2, 3, 4]\n",
        "r = 3\n",
        "permutaciones2 = list(itertools.permutations(numeros, r))\n",
        "print(f\"Permutaciones de {numeros}\")\n",
        "print(permutaciones2)\n",
        "print(\"Número de permutaciones:\", len(permutaciones2))"
      ],
      "metadata": {
        "colab": {
          "base_uri": "https://localhost:8080/"
        },
        "id": "DJO5eWjLlXHP",
        "outputId": "04a75753-a929-4ac6-93ad-03c5fec64c87"
      },
      "execution_count": 25,
      "outputs": [
        {
          "output_type": "stream",
          "name": "stdout",
          "text": [
            "Permutaciones de [1, 2, 3, 4]\n",
            "[(1, 2, 3), (1, 2, 4), (1, 3, 2), (1, 3, 4), (1, 4, 2), (1, 4, 3), (2, 1, 3), (2, 1, 4), (2, 3, 1), (2, 3, 4), (2, 4, 1), (2, 4, 3), (3, 1, 2), (3, 1, 4), (3, 2, 1), (3, 2, 4), (3, 4, 1), (3, 4, 2), (4, 1, 2), (4, 1, 3), (4, 2, 1), (4, 2, 3), (4, 3, 1), (4, 3, 2)]\n",
            "Número de permutaciones: 24\n"
          ]
        }
      ]
    }
  ]
}