{
  "nbformat": 4,
  "nbformat_minor": 0,
  "metadata": {
    "colab": {
      "provenance": [],
      "authorship_tag": "ABX9TyOXpUxIO//AuQqe+Vsfk/ty",
      "include_colab_link": true
    },
    "kernelspec": {
      "name": "python3",
      "display_name": "Python 3"
    },
    "language_info": {
      "name": "python"
    }
  },
  "cells": [
    {
      "cell_type": "markdown",
      "metadata": {
        "id": "view-in-github",
        "colab_type": "text"
      },
      "source": [
        "<a href=\"https://colab.research.google.com/github/LLSS428/Probabilidad-y-Estadistica/blob/main/Unidad2/probabilidad_U2_Programa3.ipynb\" target=\"_parent\"><img src=\"https://colab.research.google.com/assets/colab-badge.svg\" alt=\"Open In Colab\"/></a>"
      ]
    },
    {
      "cell_type": "markdown",
      "source": [
        "# **Programación Orientada a Objetos**\n",
        "## **Unidad 2**\n",
        "## **Grupo 2 Y**\n",
        "## **Programa 3**\n",
        "### Maestro: José Gabriel Rodriguez Rivas\n",
        "### Alumno: Leonel ALberto Ontiveros Vera"
      ],
      "metadata": {
        "id": "CAINl8EFfj2v"
      }
    },
    {
      "cell_type": "code",
      "source": [
        "import math"
      ],
      "metadata": {
        "id": "FewIH2Djl25V"
      },
      "execution_count": 27,
      "outputs": []
    },
    {
      "cell_type": "code",
      "source": [
        "\n",
        "# Asistentes de profesor\n",
        "n = 10\n",
        "# Preguntas a calificar\n",
        "r = 4\n",
        "\n",
        "# Función para calcular las Combinaciones\n",
        "def combinaciones(n, r):\n",
        "    if r > n:\n",
        "        return 0\n",
        "    n_factorial = math.factorial(n)\n",
        "    r_factorial = math.factorial(r)\n",
        "    n_minus_r_factorial = math.factorial(n - r)\n",
        "    resultado = n_factorial / (r_factorial * n_minus_r_factorial)\n",
        "    return int(resultado)\n",
        "# Cálculo y Resultados\n",
        "numero_de_maneras = combinaciones(n, r)\n",
        "\n",
        "print(\"--- Combinaciones ---\")\n",
        "print(f\"El número total de asistentes de profesor (n) es: {n}\")\n",
        "print(f\"El número de preguntas a calificar (r) es: {r}\")\n",
        "print(f\"La fórmula utilizada es C({n}, {r}) = {n}! / ({r}! * ({n}-{r})!)\")\n",
        "print(f\"El número de maneras de elegir los 4 asistentes es: {numero_de_maneras}\")"
      ],
      "metadata": {
        "colab": {
          "base_uri": "https://localhost:8080/"
        },
        "id": "oA-kN89hl7gl",
        "outputId": "6ed656af-9b74-401d-9ad1-f3a46666d8fb"
      },
      "execution_count": 31,
      "outputs": [
        {
          "output_type": "stream",
          "name": "stdout",
          "text": [
            "--- Combinaciones ---\n",
            "El número total de asistentes de profesor (n) es: 10\n",
            "El número de preguntas a calificar (r) es: 4\n",
            "La fórmula utilizada es C(10, 4) = 10! / (4! * (10-4)!)\n",
            "El número de maneras de elegir los 4 asistentes es: 210\n"
          ]
        }
      ]
    }
  ]
}