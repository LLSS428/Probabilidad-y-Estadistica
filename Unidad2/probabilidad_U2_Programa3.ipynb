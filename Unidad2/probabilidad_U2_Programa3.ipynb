{
  "nbformat": 4,
  "nbformat_minor": 0,
  "metadata": {
    "colab": {
      "provenance": [],
      "authorship_tag": "ABX9TyPwlRDZjmUjeJio966OT3cX",
      "include_colab_link": true
    },
    "kernelspec": {
      "name": "python3",
      "display_name": "Python 3"
    },
    "language_info": {
      "name": "python"
    }
  },
  "cells": [
    {
      "cell_type": "markdown",
      "metadata": {
        "id": "view-in-github",
        "colab_type": "text"
      },
      "source": [
        "<a href=\"https://colab.research.google.com/github/LLSS428/Probabilidad-y-Estadistica/blob/main/Unidad2/probabilidad_U2_Programa3.ipynb\" target=\"_parent\"><img src=\"https://colab.research.google.com/assets/colab-badge.svg\" alt=\"Open In Colab\"/></a>"
      ]
    },
    {
      "cell_type": "markdown",
      "source": [
        "# **Programación Orientada a Objetos**\n",
        "## **Unidad 2**\n",
        "## **Grupo 2 Y**\n",
        "## **Programa 3**\n",
        "### Maestro: José Gabriel Rodriguez Rivas\n",
        "### Alumno: Leonel ALberto Ontiveros Vera"
      ],
      "metadata": {
        "id": "CAINl8EFfj2v"
      }
    },
    {
      "cell_type": "code",
      "source": [
        "import itertools\n",
        "import math"
      ],
      "metadata": {
        "id": "FewIH2Djl25V"
      },
      "execution_count": 27,
      "outputs": []
    },
    {
      "cell_type": "code",
      "source": [
        "# Calcular las permutaciones de la palabra \"MATE\"\n",
        "print(\"Ejemplo: Permutaciones de la palabra 'MATE'\")\n",
        "palabra = \"MATE\"\n",
        "permutaciones = list(itertools.permutations(palabra))\n",
        "print(permutaciones)\n",
        "print(\"Número de permutaciones:\", len(permutaciones))"
      ],
      "metadata": {
        "colab": {
          "base_uri": "https://localhost:8080/"
        },
        "id": "oA-kN89hl7gl",
        "outputId": "b928eccb-136b-4341-e0bb-72cd55f82f6a"
      },
      "execution_count": 26,
      "outputs": [
        {
          "output_type": "stream",
          "name": "stdout",
          "text": [
            "Ejemplo: Permutaciones de la palabra 'MATE'\n",
            "[('M', 'A', 'T', 'E'), ('M', 'A', 'E', 'T'), ('M', 'T', 'A', 'E'), ('M', 'T', 'E', 'A'), ('M', 'E', 'A', 'T'), ('M', 'E', 'T', 'A'), ('A', 'M', 'T', 'E'), ('A', 'M', 'E', 'T'), ('A', 'T', 'M', 'E'), ('A', 'T', 'E', 'M'), ('A', 'E', 'M', 'T'), ('A', 'E', 'T', 'M'), ('T', 'M', 'A', 'E'), ('T', 'M', 'E', 'A'), ('T', 'A', 'M', 'E'), ('T', 'A', 'E', 'M'), ('T', 'E', 'M', 'A'), ('T', 'E', 'A', 'M'), ('E', 'M', 'A', 'T'), ('E', 'M', 'T', 'A'), ('E', 'A', 'M', 'T'), ('E', 'A', 'T', 'M'), ('E', 'T', 'M', 'A'), ('E', 'T', 'A', 'M')]\n",
            "Número de permutaciones: 24\n"
          ]
        }
      ]
    }
  ]
}