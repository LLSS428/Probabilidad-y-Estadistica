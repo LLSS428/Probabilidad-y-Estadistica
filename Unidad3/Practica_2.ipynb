{
  "nbformat": 4,
  "nbformat_minor": 0,
  "metadata": {
    "colab": {
      "provenance": [],
      "authorship_tag": "ABX9TyMwEX2HbCLEyRarPkDxcYWC",
      "include_colab_link": true
    },
    "kernelspec": {
      "name": "python3",
      "display_name": "Python 3"
    },
    "language_info": {
      "name": "python"
    }
  },
  "cells": [
    {
      "cell_type": "markdown",
      "metadata": {
        "id": "view-in-github",
        "colab_type": "text"
      },
      "source": [
        "<a href=\"https://colab.research.google.com/github/LLSS428/Probabilidad-y-Estadistica/blob/main/Unidad3/Practica_2.ipynb\" target=\"_parent\"><img src=\"https://colab.research.google.com/assets/colab-badge.svg\" alt=\"Open In Colab\"/></a>"
      ]
    },
    {
      "cell_type": "markdown",
      "source": [
        "# **Probabilidad y Estadistica**\n",
        "## Unidad 3\n",
        "### Practica 2\n",
        "### Profesor: José Gabriel Rodriguez Rivas\n",
        "### Alumno: Leonel Alberto Ontiveros Vera"
      ],
      "metadata": {
        "id": "cz3MkNhhL7V9"
      }
    },
    {
      "cell_type": "code",
      "execution_count": 1,
      "metadata": {
        "colab": {
          "base_uri": "https://localhost:8080/"
        },
        "id": "NCq3XOruLc9c",
        "outputId": "638b53dd-1bd8-494a-a77b-3c27704d28b0"
      },
      "outputs": [
        {
          "output_type": "stream",
          "name": "stdout",
          "text": [
            "x= 5, p=0.05, x*p=0.25\n",
            "x= 6, p=0.1, x*p=0.60\n",
            "x= 7, p=0.2, x*p=1.40\n",
            "x= 8, p=0.3, x*p=2.40\n",
            "x= 9, p=0.25, x*p=2.25\n",
            "x= 10, p=0.1, x*p=1.00\n",
            "\n",
            "Valor esperado (Esperanza): 7.90\n"
          ]
        }
      ],
      "source": [
        "import matplotlib.pyplot as plt\n",
        "# Valores de la variable aleatoria\n",
        "x = [5, 6, 7, 8, 9, 10]\n",
        "p = [0.05, 0.10, 0.20, 0.30, 0.25, 0.10]\n",
        "valor_esperado=0\n",
        "for i in range(len(x)):\n",
        "    xi = x[i]\n",
        "    pi = p[i]\n",
        "    producto = xi * pi\n",
        "    valor_esperado += producto\n",
        "    print(f\"x= {xi}, p={pi}, x*p={producto:.2f}\")\n",
        "print (f\"\\nValor esperado (Esperanza): {valor_esperado:.2f}\")"
      ]
    }
  ]
}