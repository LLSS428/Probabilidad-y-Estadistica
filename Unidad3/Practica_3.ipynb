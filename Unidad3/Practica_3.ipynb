{
  "nbformat": 4,
  "nbformat_minor": 0,
  "metadata": {
    "colab": {
      "provenance": [],
      "authorship_tag": "ABX9TyNVITutwrwTBu0nSiUhRBP/",
      "include_colab_link": true
    },
    "kernelspec": {
      "name": "python3",
      "display_name": "Python 3"
    },
    "language_info": {
      "name": "python"
    }
  },
  "cells": [
    {
      "cell_type": "markdown",
      "metadata": {
        "id": "view-in-github",
        "colab_type": "text"
      },
      "source": [
        "<a href=\"https://colab.research.google.com/github/LLSS428/Probabilidad-y-Estadistica/blob/main/Unidad3/Practica_3.ipynb\" target=\"_parent\"><img src=\"https://colab.research.google.com/assets/colab-badge.svg\" alt=\"Open In Colab\"/></a>"
      ]
    },
    {
      "cell_type": "markdown",
      "source": [
        "# **Probabilidad y Estadistica**\n",
        "## Unidad 3\n",
        "### Practica 3\n",
        "### Profesor: José Gabriel Rodriguez Rivas\n",
        "### Alumno: Leonel Alberto Ontiveros Vera"
      ],
      "metadata": {
        "id": "cz3MkNhhL7V9"
      }
    },
    {
      "cell_type": "code",
      "execution_count": null,
      "metadata": {
        "colab": {
          "base_uri": "https://localhost:8080/"
        },
        "id": "NCq3XOruLc9c",
        "outputId": "b7e8f7e2-bf6d-49b1-9432-f36db91dadd8"
      },
      "outputs": [
        {
          "output_type": "stream",
          "name": "stdout",
          "text": [
            "E(X) = 7.90\n",
            "E(X^2) = 64.10\n",
            "Varianza = 1.6899999999999906\n",
            "Desviación estandar = 1.30\n"
          ]
        }
      ],
      "source": [
        "import math\n",
        "# Valores de la variable aleatoria\n",
        "x = [5, 6, 7, 8, 9, 10]\n",
        "p = [0.05, 0.10, 0.20, 0.30, 0.25, 0.10]\n",
        "\n",
        "# Calcular E(X)\n",
        "esperanza=0\n",
        "for i in range(len(x)):\n",
        "    esperanza += x[i] * p[i]\n",
        "# Calcular E(x'2)\n",
        "esperanza_cuadrado=0\n",
        "for i in range(len(x)):\n",
        "    esperanza_cuadrado += (x[i] ** 2) * p[i]\n",
        "# Calcular la varianza y desviación estandar\n",
        "varianza = esperanza_cuadrado - (esperanza ** 2)\n",
        "desviación = math.sqrt(varianza)\n",
        "# Mostrar resultados\n",
        "print(f\"E(X) = {esperanza:.2f}\")\n",
        "print(f\"E(X^2) = {esperanza_cuadrado:.2f}\")\n",
        "print(f\"Varianza = {varianza}\")\n",
        "print(f\"Desviación estandar = {desviación:.2f}\")"
      ]
    }
  ]
}