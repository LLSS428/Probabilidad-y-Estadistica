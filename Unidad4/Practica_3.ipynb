{
  "nbformat": 4,
  "nbformat_minor": 0,
  "metadata": {
    "colab": {
      "provenance": [],
      "authorship_tag": "ABX9TyNHrF5CSRLfWwZp2/1Ll3bP",
      "include_colab_link": true
    },
    "kernelspec": {
      "name": "python3",
      "display_name": "Python 3"
    },
    "language_info": {
      "name": "python"
    }
  },
  "cells": [
    {
      "cell_type": "markdown",
      "metadata": {
        "id": "view-in-github",
        "colab_type": "text"
      },
      "source": [
        "<a href=\"https://colab.research.google.com/github/LLSS428/Probabilidad-y-Estadistica/blob/main/Unidad4/Practica_3.ipynb\" target=\"_parent\"><img src=\"https://colab.research.google.com/assets/colab-badge.svg\" alt=\"Open In Colab\"/></a>"
      ]
    },
    {
      "cell_type": "markdown",
      "source": [
        "# **Probabilidad y Estadistica**\n",
        "## Unidad 4\n",
        "### Practica 3\n",
        "### Profesor: José Gabriel Rodriguez Rivas\n",
        "### Alumno: Leonel Alberto Ontiveros Vera"
      ],
      "metadata": {
        "id": "3j315KJfWXPe"
      }
    },
    {
      "cell_type": "code",
      "source": [
        "from scipy.stats import binom\n",
        "\n",
        "# Parámetros de la distribución binomial\n",
        "probabilidad_exito = 0.83\n",
        "num_pacientes = 16\n",
        "x = 16 # Número de éxitos (en este contexto, \"éxito\" es *no* sufrir la enfermedad)\n",
        "\n",
        "# Calcular la probabilidad de que ningún paciente sufra la enfermedad\n",
        "# P(X=16) si 'éxito' = no sufrir. La probabilidad de 'no sufrir' es p.\n",
        "probabilidad_ninguno_enfermo = binom.pmf(x, num_pacientes, probabilidad_exito)\n",
        "\n",
        "print(\"La probabilidad de que ningún paciente sufra la enfermedad es: \", probabilidad_ninguno_enfermo)"
      ],
      "metadata": {
        "id": "huzUyJYeUq55",
        "outputId": "87b60a15-44f4-4545-c038-851947be961d",
        "colab": {
          "base_uri": "https://localhost:8080/"
        }
      },
      "execution_count": null,
      "outputs": [
        {
          "output_type": "stream",
          "name": "stdout",
          "text": [
            "La probabilidad de que ningún paciente sufra la enfermedad es:  0.0507282029895386\n"
          ]
        }
      ]
    },
    {
      "cell_type": "code",
      "source": [
        "# Parametros de la distribución binomial\n",
        "probabilidad_exito = 0.83\n",
        "num_pacientes = 16\n",
        "X = 0\n",
        "# Calcular la probabilidad de que todos Los pacientes sufran La enfermedad\n",
        "probabilidad_todos_enfermos = binom.pmf(X, num_pacientes, probabilidad_exito)\n",
        "print(\"La probabilidad de que todos los pacientes sufran la enfermedad es:\", probabilidad_todos_enfermos)"
      ],
      "metadata": {
        "id": "uzj-jrhpVqGJ",
        "outputId": "7683331e-b405-4f33-d7f2-909135b84a94",
        "colab": {
          "base_uri": "https://localhost:8080/"
        }
      },
      "execution_count": null,
      "outputs": [
        {
          "output_type": "stream",
          "name": "stdout",
          "text": [
            "La probabilidad de que todos los pacientes sufran la enfermedad es: 4.866119187566701e-13\n"
          ]
        }
      ]
    }
  ]
}