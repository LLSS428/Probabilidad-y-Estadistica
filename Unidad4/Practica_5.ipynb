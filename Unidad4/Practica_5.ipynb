{
  "nbformat": 4,
  "nbformat_minor": 0,
  "metadata": {
    "colab": {
      "provenance": [],
      "authorship_tag": "ABX9TyNVtojaDmroldv6wmiUOjhJ",
      "include_colab_link": true
    },
    "kernelspec": {
      "name": "python3",
      "display_name": "Python 3"
    },
    "language_info": {
      "name": "python"
    }
  },
  "cells": [
    {
      "cell_type": "markdown",
      "metadata": {
        "id": "view-in-github",
        "colab_type": "text"
      },
      "source": [
        "<a href=\"https://colab.research.google.com/github/LLSS428/Probabilidad-y-Estadistica/blob/main/Unidad4/Practica_5.ipynb\" target=\"_parent\"><img src=\"https://colab.research.google.com/assets/colab-badge.svg\" alt=\"Open In Colab\"/></a>"
      ]
    },
    {
      "cell_type": "markdown",
      "source": [
        "# **Probabilidad y Estadistica**\n",
        "## Unidad 4\n",
        "### Práctica 5\n",
        "### \"Distribución Poisson\"\n",
        "### Profesor: José Gabriel Rodriguez Rivas\n",
        "### Alumno: Leonel Alberto Ontiveros Vera"
      ],
      "metadata": {
        "id": "cz3MkNhhL7V9"
      }
    },
    {
      "cell_type": "code",
      "source": [
        "from scipy.stats import poisson\n",
        "\n",
        "# Parámetros de la distribución de Poisson\n",
        "media_accidentes = 2\n",
        "\n",
        "# Parte 1: Probabilidad de que no haya accidentes en 1 semana\n",
        "# poisson.pmf(k, mu) calcula P(X=k)\n",
        "probabilidad_0_accidentes = poisson.pmf(0, media_accidentes)\n",
        "\n",
        "print(\"1. Probabilidad de que no haya accidentes en 1 semana:\", probabilidad_0_accidentes)\n",
        "\n",
        "# Parte 2: Probabilidad de que a lo sumo haya tres accidentes en 2 semanas\n",
        "\n",
        "# Convertimos la media a una media para 2 semanas\n",
        "# La media para dos semanas es 2 * 2 = 4\n",
        "media_2_semanas = media_accidentes * 2\n",
        "\n",
        "# Calculamos la probabilidad acumulada hasta 3 accidentes en 2 semanas\n",
        "# poisson.cdf(k, mu) calcula P(X<=k)\n",
        "probabilidad_3_o_menos_accidentes = poisson.cdf(3, media_2_semanas)\n",
        "\n",
        "print(\"2. Probabilidad de que a lo sumo haya tres accidentes en 2 semanas:\", probabilidad_3_o_menos_accidentes)"
      ],
      "metadata": {
        "id": "r5ENrn-igAU7",
        "outputId": "ac2809e9-d7cc-4e46-bcd3-5e8f7f86725a",
        "colab": {
          "base_uri": "https://localhost:8080/"
        }
      },
      "execution_count": 2,
      "outputs": [
        {
          "output_type": "stream",
          "name": "stdout",
          "text": [
            "1. Probabilidad de que no haya accidentes en 1 semana: 0.1353352832366127\n",
            "2. Probabilidad de que a lo sumo haya tres accidentes en 2 semanas: 0.43347012036670896\n"
          ]
        }
      ]
    },
    {
      "cell_type": "code",
      "source": [
        "from scipy.stats import poisson\n",
        "\n",
        "# Parámetros de la distribución de Poisson (aproximación de la Binomial)\n",
        "# media_muertes = n * p = 5000 * 0.001\n",
        "media_muertes = 5000 * 0.001\n",
        "\n",
        "# Número de reclamaciones (x)\n",
        "x = 4\n",
        "\n",
        "# Calcular la probabilidad de que la compañía tenga que pagar 4 reclamaciones en un año determinado\n",
        "# poisson.pmf(k, mu) calcula P(X=k)\n",
        "probabilidad_4_reclamaciones = poisson.pmf(x, media_muertes)\n",
        "\n",
        "print(\"La probabilidad de que la compañía tenga que pagar 4 reclamaciones es:\", probabilidad_4_reclamaciones)"
      ],
      "metadata": {
        "id": "VoMRQERygLCz",
        "outputId": "606b9efc-6b97-4e3c-aa4f-287b6c5dd401",
        "colab": {
          "base_uri": "https://localhost:8080/"
        }
      },
      "execution_count": 3,
      "outputs": [
        {
          "output_type": "stream",
          "name": "stdout",
          "text": [
            "La probabilidad de que la compañía tenga que pagar 4 reclamaciones es: 0.17546736976785063\n"
          ]
        }
      ]
    }
  ]
}