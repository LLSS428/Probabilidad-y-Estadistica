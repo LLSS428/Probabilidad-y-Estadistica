{
  "nbformat": 4,
  "nbformat_minor": 0,
  "metadata": {
    "colab": {
      "provenance": [],
      "authorship_tag": "ABX9TyPrPn54hhEyOjITZlywix4t",
      "include_colab_link": true
    },
    "kernelspec": {
      "name": "python3",
      "display_name": "Python 3"
    },
    "language_info": {
      "name": "python"
    }
  },
  "cells": [
    {
      "cell_type": "markdown",
      "metadata": {
        "id": "view-in-github",
        "colab_type": "text"
      },
      "source": [
        "<a href=\"https://colab.research.google.com/github/LLSS428/Probabilidad-y-Estadistica/blob/main/Unidad4/Problema_2.ipynb\" target=\"_parent\"><img src=\"https://colab.research.google.com/assets/colab-badge.svg\" alt=\"Open In Colab\"/></a>"
      ]
    },
    {
      "cell_type": "markdown",
      "source": [
        "# **Probabilidad y Estadistica**\n",
        "## Unidad 4\n",
        "### Problema 2\n",
        "### Profesor: José Gabriel Rodriguez Rivas\n",
        "### Alumno: Leonel Alberto Ontiveros Vera"
      ],
      "metadata": {
        "id": "cz3MkNhhL7V9"
      }
    },
    {
      "cell_type": "markdown",
      "source": [
        "- Este problema debe resolverse con la Distribución de Poisson, como el propio enunciado indica, ya que se está midiendo el número de veces que ocurre un evento dentro de una unidad de tiempo específica."
      ],
      "metadata": {
        "id": "aXgiCgIbgs77"
      }
    },
    {
      "cell_type": "code",
      "source": [
        "from scipy.stats import poisson\n",
        "\n",
        "media_ingresos = 5  # media es cinco personas por día\n",
        "\n",
        "# Se usa la función poisson.pmf\n",
        "k_a = 2\n",
        "probabilidad_x_2 = poisson.pmf(k_a, media_ingresos)\n",
        "\n",
        "print(f\"1.- La probabilidad de que ingresen {k_a} personas es: {probabilidad_x_2:.8f}\")\n",
        "\n",
        "# Se calcula P(x > 10), que es 1 - P(x <= 10)\n",
        "# Se usa poisson.cdf(k, mu) para P(x <= k)\n",
        "k_b = 10\n",
        "probabilidad_x_mayor_10 = 1 - poisson.cdf(k_b, media_ingresos)\n",
        "\n",
        "print(f\"2.- La probabilidad de que x exceda de {k_b} es: {probabilidad_x_mayor_10:.8f}\")\n",
        "print(f\"Explicación: No es probable que x exceda de {k_b}, ya que la probabilidad ({probabilidad_x_mayor_10:.4f}) es muy baja.\")"
      ],
      "metadata": {
        "id": "aSm-YpbdfZi4",
        "outputId": "9d46140d-7625-446e-b19a-895c487d3429",
        "colab": {
          "base_uri": "https://localhost:8080/"
        }
      },
      "execution_count": 4,
      "outputs": [
        {
          "output_type": "stream",
          "name": "stdout",
          "text": [
            "1.- La probabilidad de que ingresen 2 personas es: 0.08422434\n",
            "2.- La probabilidad de que x exceda de 10 es: 0.01369527\n",
            "Explicación: No es probable que x exceda de 10, ya que la probabilidad (0.0137) es muy baja.\n"
          ]
        }
      ]
    }
  ]
}