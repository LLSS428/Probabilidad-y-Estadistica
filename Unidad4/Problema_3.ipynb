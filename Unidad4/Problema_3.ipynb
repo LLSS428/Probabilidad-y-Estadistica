{
  "nbformat": 4,
  "nbformat_minor": 0,
  "metadata": {
    "colab": {
      "provenance": [],
      "authorship_tag": "ABX9TyMqaZPTO+8pqv79RqPhex0N",
      "include_colab_link": true
    },
    "kernelspec": {
      "name": "python3",
      "display_name": "Python 3"
    },
    "language_info": {
      "name": "python"
    }
  },
  "cells": [
    {
      "cell_type": "markdown",
      "metadata": {
        "id": "view-in-github",
        "colab_type": "text"
      },
      "source": [
        "<a href=\"https://colab.research.google.com/github/LLSS428/Probabilidad-y-Estadistica/blob/main/Unidad4/Problema_3.ipynb\" target=\"_parent\"><img src=\"https://colab.research.google.com/assets/colab-badge.svg\" alt=\"Open In Colab\"/></a>"
      ]
    },
    {
      "cell_type": "markdown",
      "source": [
        "# **Probabilidad y Estadistica**\n",
        "## Unidad 4\n",
        "### Problema 2\n",
        "### Profesor: José Gabriel Rodriguez Rivas\n",
        "### Alumno: Leonel Alberto Ontiveros Vera"
      ],
      "metadata": {
        "id": "cz3MkNhhL7V9"
      }
    },
    {
      "cell_type": "markdown",
      "source": [
        "- Este problema es una distribución binomial, debido a que hay un número fijo de intentos cada intento tiene dos resultados, y la probabilidad de \"éxito\" es constante."
      ],
      "metadata": {
        "id": "aXgiCgIbgs77"
      }
    },
    {
      "cell_type": "code",
      "source": [
        "from scipy.stats import binom\n",
        "\n",
        "n_motores = 1000      # n = 1000 intentos (motores)\n",
        "p_defectuoso = 0.001  # p = 0.001 probabilidad de \"éxito\" (defectuoso)\n",
        "\n",
        "# Se utiliza la función binom.pmf\n",
        "# Probabilidad de que ninguno sea defectuoso\n",
        "k_a = 0\n",
        "prob_x_0 = binom.pmf(k_a, n_motores, p_defectuoso)\n",
        "print(f\"Probabilidad de que {k_a} sean defectuosos: {prob_x_0:.8f}\")\n",
        "\n",
        "# Probabilidad de que 3 sean defectuosos\n",
        "k_b = 3\n",
        "prob_x_3 = binom.pmf(k_b, n_motores, p_defectuoso)\n",
        "print(f\"\\nProbabilidad de que {k_b} sean defectuosos: {prob_x_3:.8f}\")\n",
        "\n",
        "# Probabilidad de que 4 sean defectuosos\n",
        "k_c = 4\n",
        "prob_x_4 = binom.pmf(k_c, n_motores, p_defectuoso)\n",
        "print(f\"\\nProbabilidad de que {k_c} sean defectuosos: {prob_x_4:.8f}\")"
      ],
      "metadata": {
        "id": "tUUfScLlhq-n",
        "outputId": "d6eb357d-9c6f-4ea3-b716-0510c2c0a4c3",
        "colab": {
          "base_uri": "https://localhost:8080/"
        }
      },
      "execution_count": 10,
      "outputs": [
        {
          "output_type": "stream",
          "name": "stdout",
          "text": [
            "Probabilidad de que 0 sean defectuosos: 0.36769542\n",
            "\n",
            "Probabilidad de que 3 sean defectuosos: 0.06128251\n",
            "\n",
            "Probabilidad de que 4 sean defectuosos: 0.01528996\n"
          ]
        }
      ]
    }
  ]
}